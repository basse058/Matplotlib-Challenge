{
 "cells": [
  {
   "cell_type": "markdown",
   "metadata": {},
   "source": [
    "# Pymaceuticals Inc.\n",
    "---\n",
    "\n",
    "### Analysis\n",
    "\n",
    "- Add your analysis here.\n",
    " "
   ]
  },
  {
   "cell_type": "code",
   "execution_count": 25,
   "metadata": {},
   "outputs": [],
   "source": [
    "%matplotlib notebook"
   ]
  },
  {
   "cell_type": "code",
   "execution_count": 40,
   "metadata": {},
   "outputs": [
    {
     "data": {
      "text/html": [
       "<div>\n",
       "<style scoped>\n",
       "    .dataframe tbody tr th:only-of-type {\n",
       "        vertical-align: middle;\n",
       "    }\n",
       "\n",
       "    .dataframe tbody tr th {\n",
       "        vertical-align: top;\n",
       "    }\n",
       "\n",
       "    .dataframe thead th {\n",
       "        text-align: right;\n",
       "    }\n",
       "</style>\n",
       "<table border=\"1\" class=\"dataframe\">\n",
       "  <thead>\n",
       "    <tr style=\"text-align: right;\">\n",
       "      <th></th>\n",
       "      <th>Mouse ID</th>\n",
       "      <th>Timepoint</th>\n",
       "      <th>Tumor Volume (mm3)</th>\n",
       "      <th>Metastatic Sites</th>\n",
       "      <th>Drug Regimen</th>\n",
       "      <th>Sex</th>\n",
       "      <th>Age_months</th>\n",
       "      <th>Weight (g)</th>\n",
       "    </tr>\n",
       "  </thead>\n",
       "  <tbody>\n",
       "    <tr>\n",
       "      <th>0</th>\n",
       "      <td>b128</td>\n",
       "      <td>0</td>\n",
       "      <td>45.0</td>\n",
       "      <td>0</td>\n",
       "      <td>Capomulin</td>\n",
       "      <td>Female</td>\n",
       "      <td>9</td>\n",
       "      <td>22</td>\n",
       "    </tr>\n",
       "    <tr>\n",
       "      <th>1</th>\n",
       "      <td>f932</td>\n",
       "      <td>0</td>\n",
       "      <td>45.0</td>\n",
       "      <td>0</td>\n",
       "      <td>Ketapril</td>\n",
       "      <td>Male</td>\n",
       "      <td>15</td>\n",
       "      <td>29</td>\n",
       "    </tr>\n",
       "    <tr>\n",
       "      <th>2</th>\n",
       "      <td>g107</td>\n",
       "      <td>0</td>\n",
       "      <td>45.0</td>\n",
       "      <td>0</td>\n",
       "      <td>Ketapril</td>\n",
       "      <td>Female</td>\n",
       "      <td>2</td>\n",
       "      <td>29</td>\n",
       "    </tr>\n",
       "    <tr>\n",
       "      <th>3</th>\n",
       "      <td>a457</td>\n",
       "      <td>0</td>\n",
       "      <td>45.0</td>\n",
       "      <td>0</td>\n",
       "      <td>Ketapril</td>\n",
       "      <td>Female</td>\n",
       "      <td>11</td>\n",
       "      <td>30</td>\n",
       "    </tr>\n",
       "    <tr>\n",
       "      <th>4</th>\n",
       "      <td>c819</td>\n",
       "      <td>0</td>\n",
       "      <td>45.0</td>\n",
       "      <td>0</td>\n",
       "      <td>Ketapril</td>\n",
       "      <td>Male</td>\n",
       "      <td>21</td>\n",
       "      <td>25</td>\n",
       "    </tr>\n",
       "  </tbody>\n",
       "</table>\n",
       "</div>"
      ],
      "text/plain": [
       "  Mouse ID  Timepoint  Tumor Volume (mm3)  Metastatic Sites Drug Regimen  \\\n",
       "0     b128          0                45.0                 0    Capomulin   \n",
       "1     f932          0                45.0                 0     Ketapril   \n",
       "2     g107          0                45.0                 0     Ketapril   \n",
       "3     a457          0                45.0                 0     Ketapril   \n",
       "4     c819          0                45.0                 0     Ketapril   \n",
       "\n",
       "      Sex  Age_months  Weight (g)  \n",
       "0  Female           9          22  \n",
       "1    Male          15          29  \n",
       "2  Female           2          29  \n",
       "3  Female          11          30  \n",
       "4    Male          21          25  "
      ]
     },
     "execution_count": 40,
     "metadata": {},
     "output_type": "execute_result"
    }
   ],
   "source": [
    "# Dependencies and Setup\n",
    "import matplotlib.pyplot as plt\n",
    "import pandas as pd\n",
    "import scipy.stats as st\n",
    "import numpy as np\n",
    "\n",
    "# Study data files\n",
    "mouse_metadata_path = \"data/Mouse_metadata.csv\"\n",
    "study_results_path = \"data/Study_results.csv\"\n",
    "\n",
    "# Read the mouse data and the study results\n",
    "mouse_metadata = pd.read_csv(mouse_metadata_path)\n",
    "study_results = pd.read_csv(study_results_path)\n",
    "\n",
    "# Combine the data into a single dataset\n",
    "mouse_study_merge = pd.merge(study_results, mouse_metadata, \n",
    "                     how=\"left\", on=[\"Mouse ID\", \"Mouse ID\"])\n",
    "\n",
    "# Display the data table for preview\n",
    "mouse_study_merge.head()\n"
   ]
  },
  {
   "cell_type": "code",
   "execution_count": 27,
   "metadata": {},
   "outputs": [
    {
     "data": {
      "text/plain": [
       "249"
      ]
     },
     "execution_count": 27,
     "metadata": {},
     "output_type": "execute_result"
    }
   ],
   "source": [
    "# Checking the number of mice.\n",
    "mice_check = mouse_study_merge['Mouse ID'].nunique()\n",
    "mice_check"
   ]
  },
  {
   "cell_type": "code",
   "execution_count": 28,
   "metadata": {},
   "outputs": [
    {
     "data": {
      "text/plain": [
       "137      g9890\n",
       "360      g9895\n",
       "681     g98910\n",
       "869     g98915\n",
       "1111    g98920\n",
       "Name: ID_Time, dtype: object"
      ]
     },
     "execution_count": 28,
     "metadata": {},
     "output_type": "execute_result"
    }
   ],
   "source": [
    "# Getting the duplicate mice by ID number that shows up for Mouse ID and Timepoint. \n",
    "# mouse_study_merge.count() - No missing data\n",
    "#concatenate ID and Timepoint\n",
    "mouse_study_merge[\"ID_Time\"] = mouse_study_merge[\"Mouse ID\"].map(str) + mouse_study_merge[\"Timepoint\"].map(str)\n",
    "\n",
    "#Number of duplicated is 5\n",
    "mouse_study_merge[\"ID_Time\"].duplicated().sum()\n",
    "\n",
    "#list duplicated\n",
    "mouse_study_merge[\"ID_Time\"].loc[mouse_study_merge[\"ID_Time\"].duplicated()]"
   ]
  },
  {
   "cell_type": "code",
   "execution_count": 29,
   "metadata": {},
   "outputs": [],
   "source": [
    "# Optional: Get all the data for the duplicate mouse ID. \n"
   ]
  },
  {
   "cell_type": "code",
   "execution_count": 30,
   "metadata": {},
   "outputs": [
    {
     "data": {
      "text/html": [
       "<div>\n",
       "<style scoped>\n",
       "    .dataframe tbody tr th:only-of-type {\n",
       "        vertical-align: middle;\n",
       "    }\n",
       "\n",
       "    .dataframe tbody tr th {\n",
       "        vertical-align: top;\n",
       "    }\n",
       "\n",
       "    .dataframe thead th {\n",
       "        text-align: right;\n",
       "    }\n",
       "</style>\n",
       "<table border=\"1\" class=\"dataframe\">\n",
       "  <thead>\n",
       "    <tr style=\"text-align: right;\">\n",
       "      <th></th>\n",
       "      <th>Mouse ID</th>\n",
       "      <th>Timepoint</th>\n",
       "      <th>Tumor Volume (mm3)</th>\n",
       "      <th>Metastatic Sites</th>\n",
       "      <th>Drug Regimen</th>\n",
       "      <th>Sex</th>\n",
       "      <th>Age_months</th>\n",
       "      <th>Weight (g)</th>\n",
       "      <th>ID_Time</th>\n",
       "    </tr>\n",
       "  </thead>\n",
       "  <tbody>\n",
       "    <tr>\n",
       "      <th>0</th>\n",
       "      <td>b128</td>\n",
       "      <td>0</td>\n",
       "      <td>45.000000</td>\n",
       "      <td>0</td>\n",
       "      <td>Capomulin</td>\n",
       "      <td>Female</td>\n",
       "      <td>9</td>\n",
       "      <td>22</td>\n",
       "      <td>b1280</td>\n",
       "    </tr>\n",
       "    <tr>\n",
       "      <th>1</th>\n",
       "      <td>f932</td>\n",
       "      <td>0</td>\n",
       "      <td>45.000000</td>\n",
       "      <td>0</td>\n",
       "      <td>Ketapril</td>\n",
       "      <td>Male</td>\n",
       "      <td>15</td>\n",
       "      <td>29</td>\n",
       "      <td>f9320</td>\n",
       "    </tr>\n",
       "    <tr>\n",
       "      <th>2</th>\n",
       "      <td>g107</td>\n",
       "      <td>0</td>\n",
       "      <td>45.000000</td>\n",
       "      <td>0</td>\n",
       "      <td>Ketapril</td>\n",
       "      <td>Female</td>\n",
       "      <td>2</td>\n",
       "      <td>29</td>\n",
       "      <td>g1070</td>\n",
       "    </tr>\n",
       "    <tr>\n",
       "      <th>3</th>\n",
       "      <td>a457</td>\n",
       "      <td>0</td>\n",
       "      <td>45.000000</td>\n",
       "      <td>0</td>\n",
       "      <td>Ketapril</td>\n",
       "      <td>Female</td>\n",
       "      <td>11</td>\n",
       "      <td>30</td>\n",
       "      <td>a4570</td>\n",
       "    </tr>\n",
       "    <tr>\n",
       "      <th>4</th>\n",
       "      <td>c819</td>\n",
       "      <td>0</td>\n",
       "      <td>45.000000</td>\n",
       "      <td>0</td>\n",
       "      <td>Ketapril</td>\n",
       "      <td>Male</td>\n",
       "      <td>21</td>\n",
       "      <td>25</td>\n",
       "      <td>c8190</td>\n",
       "    </tr>\n",
       "    <tr>\n",
       "      <th>...</th>\n",
       "      <td>...</td>\n",
       "      <td>...</td>\n",
       "      <td>...</td>\n",
       "      <td>...</td>\n",
       "      <td>...</td>\n",
       "      <td>...</td>\n",
       "      <td>...</td>\n",
       "      <td>...</td>\n",
       "      <td>...</td>\n",
       "    </tr>\n",
       "    <tr>\n",
       "      <th>1888</th>\n",
       "      <td>r944</td>\n",
       "      <td>45</td>\n",
       "      <td>41.581521</td>\n",
       "      <td>2</td>\n",
       "      <td>Capomulin</td>\n",
       "      <td>Male</td>\n",
       "      <td>12</td>\n",
       "      <td>25</td>\n",
       "      <td>r94445</td>\n",
       "    </tr>\n",
       "    <tr>\n",
       "      <th>1889</th>\n",
       "      <td>u364</td>\n",
       "      <td>45</td>\n",
       "      <td>31.023923</td>\n",
       "      <td>3</td>\n",
       "      <td>Capomulin</td>\n",
       "      <td>Male</td>\n",
       "      <td>18</td>\n",
       "      <td>17</td>\n",
       "      <td>u36445</td>\n",
       "    </tr>\n",
       "    <tr>\n",
       "      <th>1890</th>\n",
       "      <td>p438</td>\n",
       "      <td>45</td>\n",
       "      <td>61.433892</td>\n",
       "      <td>1</td>\n",
       "      <td>Ceftamin</td>\n",
       "      <td>Female</td>\n",
       "      <td>11</td>\n",
       "      <td>26</td>\n",
       "      <td>p43845</td>\n",
       "    </tr>\n",
       "    <tr>\n",
       "      <th>1891</th>\n",
       "      <td>x773</td>\n",
       "      <td>45</td>\n",
       "      <td>58.634971</td>\n",
       "      <td>4</td>\n",
       "      <td>Placebo</td>\n",
       "      <td>Female</td>\n",
       "      <td>21</td>\n",
       "      <td>30</td>\n",
       "      <td>x77345</td>\n",
       "    </tr>\n",
       "    <tr>\n",
       "      <th>1892</th>\n",
       "      <td>b879</td>\n",
       "      <td>45</td>\n",
       "      <td>72.555239</td>\n",
       "      <td>2</td>\n",
       "      <td>Stelasyn</td>\n",
       "      <td>Female</td>\n",
       "      <td>4</td>\n",
       "      <td>26</td>\n",
       "      <td>b87945</td>\n",
       "    </tr>\n",
       "  </tbody>\n",
       "</table>\n",
       "<p>1888 rows × 9 columns</p>\n",
       "</div>"
      ],
      "text/plain": [
       "     Mouse ID  Timepoint  Tumor Volume (mm3)  Metastatic Sites Drug Regimen  \\\n",
       "0        b128          0           45.000000                 0    Capomulin   \n",
       "1        f932          0           45.000000                 0     Ketapril   \n",
       "2        g107          0           45.000000                 0     Ketapril   \n",
       "3        a457          0           45.000000                 0     Ketapril   \n",
       "4        c819          0           45.000000                 0     Ketapril   \n",
       "...       ...        ...                 ...               ...          ...   \n",
       "1888     r944         45           41.581521                 2    Capomulin   \n",
       "1889     u364         45           31.023923                 3    Capomulin   \n",
       "1890     p438         45           61.433892                 1     Ceftamin   \n",
       "1891     x773         45           58.634971                 4      Placebo   \n",
       "1892     b879         45           72.555239                 2     Stelasyn   \n",
       "\n",
       "         Sex  Age_months  Weight (g) ID_Time  \n",
       "0     Female           9          22   b1280  \n",
       "1       Male          15          29   f9320  \n",
       "2     Female           2          29   g1070  \n",
       "3     Female          11          30   a4570  \n",
       "4       Male          21          25   c8190  \n",
       "...      ...         ...         ...     ...  \n",
       "1888    Male          12          25  r94445  \n",
       "1889    Male          18          17  u36445  \n",
       "1890  Female          11          26  p43845  \n",
       "1891  Female          21          30  x77345  \n",
       "1892  Female           4          26  b87945  \n",
       "\n",
       "[1888 rows x 9 columns]"
      ]
     },
     "execution_count": 30,
     "metadata": {},
     "output_type": "execute_result"
    }
   ],
   "source": [
    "# Create a clean DataFrame by dropping the duplicate mouse by its ID.\n",
    "id_time_df = mouse_study_merge.drop_duplicates(\"ID_Time\")\n",
    "id_time_df\n"
   ]
  },
  {
   "cell_type": "code",
   "execution_count": 31,
   "metadata": {},
   "outputs": [
    {
     "data": {
      "text/plain": [
       "249"
      ]
     },
     "execution_count": 31,
     "metadata": {},
     "output_type": "execute_result"
    }
   ],
   "source": [
    "# Checking the number of mice in the clean DataFrame.\n",
    "mice_check2 = id_time_df['Mouse ID'].nunique()\n",
    "mice_check2"
   ]
  },
  {
   "cell_type": "markdown",
   "metadata": {},
   "source": [
    "## Summary Statistics"
   ]
  },
  {
   "cell_type": "markdown",
   "metadata": {},
   "source": []
  },
  {
   "cell_type": "raw",
   "metadata": {},
   "source": []
  },
  {
   "cell_type": "code",
   "execution_count": null,
   "metadata": {},
   "outputs": [],
   "source": []
  },
  {
   "cell_type": "code",
   "execution_count": 32,
   "metadata": {},
   "outputs": [
    {
     "data": {
      "text/html": [
       "<div>\n",
       "<style scoped>\n",
       "    .dataframe tbody tr th:only-of-type {\n",
       "        vertical-align: middle;\n",
       "    }\n",
       "\n",
       "    .dataframe tbody tr th {\n",
       "        vertical-align: top;\n",
       "    }\n",
       "\n",
       "    .dataframe thead th {\n",
       "        text-align: right;\n",
       "    }\n",
       "</style>\n",
       "<table border=\"1\" class=\"dataframe\">\n",
       "  <thead>\n",
       "    <tr style=\"text-align: right;\">\n",
       "      <th></th>\n",
       "      <th>Mean</th>\n",
       "      <th>Median</th>\n",
       "      <th>Variance</th>\n",
       "      <th>Standard Dev</th>\n",
       "      <th>SEM</th>\n",
       "    </tr>\n",
       "    <tr>\n",
       "      <th>Drug Regimen</th>\n",
       "      <th></th>\n",
       "      <th></th>\n",
       "      <th></th>\n",
       "      <th></th>\n",
       "      <th></th>\n",
       "    </tr>\n",
       "  </thead>\n",
       "  <tbody>\n",
       "    <tr>\n",
       "      <th>Capomulin</th>\n",
       "      <td>40.675741</td>\n",
       "      <td>41.557809</td>\n",
       "      <td>24.947764</td>\n",
       "      <td>4.994774</td>\n",
       "      <td>0.329346</td>\n",
       "    </tr>\n",
       "    <tr>\n",
       "      <th>Ceftamin</th>\n",
       "      <td>52.591172</td>\n",
       "      <td>51.776157</td>\n",
       "      <td>39.290177</td>\n",
       "      <td>6.268188</td>\n",
       "      <td>0.469821</td>\n",
       "    </tr>\n",
       "    <tr>\n",
       "      <th>Infubinol</th>\n",
       "      <td>52.884795</td>\n",
       "      <td>51.820584</td>\n",
       "      <td>43.128684</td>\n",
       "      <td>6.567243</td>\n",
       "      <td>0.492236</td>\n",
       "    </tr>\n",
       "    <tr>\n",
       "      <th>Ketapril</th>\n",
       "      <td>55.235638</td>\n",
       "      <td>53.698743</td>\n",
       "      <td>68.553577</td>\n",
       "      <td>8.279709</td>\n",
       "      <td>0.603860</td>\n",
       "    </tr>\n",
       "    <tr>\n",
       "      <th>Naftisol</th>\n",
       "      <td>54.331565</td>\n",
       "      <td>52.509285</td>\n",
       "      <td>66.173479</td>\n",
       "      <td>8.134708</td>\n",
       "      <td>0.596466</td>\n",
       "    </tr>\n",
       "    <tr>\n",
       "      <th>Placebo</th>\n",
       "      <td>54.033581</td>\n",
       "      <td>52.288934</td>\n",
       "      <td>61.168083</td>\n",
       "      <td>7.821003</td>\n",
       "      <td>0.581331</td>\n",
       "    </tr>\n",
       "    <tr>\n",
       "      <th>Propriva</th>\n",
       "      <td>52.322552</td>\n",
       "      <td>50.854632</td>\n",
       "      <td>42.351070</td>\n",
       "      <td>6.507770</td>\n",
       "      <td>0.512884</td>\n",
       "    </tr>\n",
       "    <tr>\n",
       "      <th>Ramicane</th>\n",
       "      <td>40.216745</td>\n",
       "      <td>40.673236</td>\n",
       "      <td>23.486704</td>\n",
       "      <td>4.846308</td>\n",
       "      <td>0.320955</td>\n",
       "    </tr>\n",
       "    <tr>\n",
       "      <th>Stelasyn</th>\n",
       "      <td>54.233149</td>\n",
       "      <td>52.431737</td>\n",
       "      <td>59.450562</td>\n",
       "      <td>7.710419</td>\n",
       "      <td>0.573111</td>\n",
       "    </tr>\n",
       "    <tr>\n",
       "      <th>Zoniferol</th>\n",
       "      <td>53.236507</td>\n",
       "      <td>51.818479</td>\n",
       "      <td>48.533355</td>\n",
       "      <td>6.966589</td>\n",
       "      <td>0.516398</td>\n",
       "    </tr>\n",
       "  </tbody>\n",
       "</table>\n",
       "</div>"
      ],
      "text/plain": [
       "                   Mean     Median   Variance  Standard Dev       SEM\n",
       "Drug Regimen                                                         \n",
       "Capomulin     40.675741  41.557809  24.947764      4.994774  0.329346\n",
       "Ceftamin      52.591172  51.776157  39.290177      6.268188  0.469821\n",
       "Infubinol     52.884795  51.820584  43.128684      6.567243  0.492236\n",
       "Ketapril      55.235638  53.698743  68.553577      8.279709  0.603860\n",
       "Naftisol      54.331565  52.509285  66.173479      8.134708  0.596466\n",
       "Placebo       54.033581  52.288934  61.168083      7.821003  0.581331\n",
       "Propriva      52.322552  50.854632  42.351070      6.507770  0.512884\n",
       "Ramicane      40.216745  40.673236  23.486704      4.846308  0.320955\n",
       "Stelasyn      54.233149  52.431737  59.450562      7.710419  0.573111\n",
       "Zoniferol     53.236507  51.818479  48.533355      6.966589  0.516398"
      ]
     },
     "execution_count": 32,
     "metadata": {},
     "output_type": "execute_result"
    }
   ],
   "source": [
    "# Generate a summary statistics table of mean, median, variance, standard deviation, and SEM of the tumor volume for each regimen\n",
    "\n",
    "# Use groupby and summary statistical methods to calculate the following properties of each drug regimen: \n",
    "# mean, median, variance, standard deviation, and SEM of the tumor volume. \n",
    "# Assemble the resulting series into a single summary DataFrame.\n",
    "mean = mouse_study_merge.groupby('Drug Regimen')['Tumor Volume (mm3)'].mean()\n",
    "median = mouse_study_merge.groupby('Drug Regimen')['Tumor Volume (mm3)'].median()\n",
    "var = mouse_study_merge.groupby('Drug Regimen')['Tumor Volume (mm3)'].var()\n",
    "sd = mouse_study_merge.groupby('Drug Regimen')['Tumor Volume (mm3)'].std()\n",
    "sem = mouse_study_merge.groupby('Drug Regimen')['Tumor Volume (mm3)'].sem()\n",
    "\n",
    "summary = pd.DataFrame({\"Mean\": mean, \"Median\": median, \"Variance\": var, \"Standard Dev\":sd, \"SEM\":sem})\n",
    "summary\n"
   ]
  },
  {
   "cell_type": "code",
   "execution_count": null,
   "metadata": {},
   "outputs": [],
   "source": [
    "#Generate a summary statistics table of mean, median, variance, standard deviation,and SEM of the tumor volume for each regimen\n",
    "#Using the aggregation method, produce the same summary statistics in a single line.\n",
    "\n"
   ]
  },
  {
   "cell_type": "markdown",
   "metadata": {},
   "source": [
    "## Bar and Pie Charts"
   ]
  },
  {
   "cell_type": "code",
   "execution_count": 33,
   "metadata": {},
   "outputs": [
    {
     "data": {
      "application/javascript": "/* Put everything inside the global mpl namespace */\n/* global mpl */\nwindow.mpl = {};\n\nmpl.get_websocket_type = function () {\n    if (typeof WebSocket !== 'undefined') {\n        return WebSocket;\n    } else if (typeof MozWebSocket !== 'undefined') {\n        return MozWebSocket;\n    } else {\n        alert(\n            'Your browser does not have WebSocket support. ' +\n                'Please try Chrome, Safari or Firefox ≥ 6. ' +\n                'Firefox 4 and 5 are also supported but you ' +\n                'have to enable WebSockets in about:config.'\n        );\n    }\n};\n\nmpl.figure = function (figure_id, websocket, ondownload, parent_element) {\n    this.id = figure_id;\n\n    this.ws = websocket;\n\n    this.supports_binary = this.ws.binaryType !== undefined;\n\n    if (!this.supports_binary) {\n        var warnings = document.getElementById('mpl-warnings');\n        if (warnings) {\n            warnings.style.display = 'block';\n            warnings.textContent =\n                'This browser does not support binary websocket messages. ' +\n                'Performance may be slow.';\n        }\n    }\n\n    this.imageObj = new Image();\n\n    this.context = undefined;\n    this.message = undefined;\n    this.canvas = undefined;\n    this.rubberband_canvas = undefined;\n    this.rubberband_context = undefined;\n    this.format_dropdown = undefined;\n\n    this.image_mode = 'full';\n\n    this.root = document.createElement('div');\n    this.root.setAttribute('style', 'display: inline-block');\n    this._root_extra_style(this.root);\n\n    parent_element.appendChild(this.root);\n\n    this._init_header(this);\n    this._init_canvas(this);\n    this._init_toolbar(this);\n\n    var fig = this;\n\n    this.waiting = false;\n\n    this.ws.onopen = function () {\n        fig.send_message('supports_binary', { value: fig.supports_binary });\n        fig.send_message('send_image_mode', {});\n        if (fig.ratio !== 1) {\n            fig.send_message('set_device_pixel_ratio', {\n                device_pixel_ratio: fig.ratio,\n            });\n        }\n        fig.send_message('refresh', {});\n    };\n\n    this.imageObj.onload = function () {\n        if (fig.image_mode === 'full') {\n            // Full images could contain transparency (where diff images\n            // almost always do), so we need to clear the canvas so that\n            // there is no ghosting.\n            fig.context.clearRect(0, 0, fig.canvas.width, fig.canvas.height);\n        }\n        fig.context.drawImage(fig.imageObj, 0, 0);\n    };\n\n    this.imageObj.onunload = function () {\n        fig.ws.close();\n    };\n\n    this.ws.onmessage = this._make_on_message_function(this);\n\n    this.ondownload = ondownload;\n};\n\nmpl.figure.prototype._init_header = function () {\n    var titlebar = document.createElement('div');\n    titlebar.classList =\n        'ui-dialog-titlebar ui-widget-header ui-corner-all ui-helper-clearfix';\n    var titletext = document.createElement('div');\n    titletext.classList = 'ui-dialog-title';\n    titletext.setAttribute(\n        'style',\n        'width: 100%; text-align: center; padding: 3px;'\n    );\n    titlebar.appendChild(titletext);\n    this.root.appendChild(titlebar);\n    this.header = titletext;\n};\n\nmpl.figure.prototype._canvas_extra_style = function (_canvas_div) {};\n\nmpl.figure.prototype._root_extra_style = function (_canvas_div) {};\n\nmpl.figure.prototype._init_canvas = function () {\n    var fig = this;\n\n    var canvas_div = (this.canvas_div = document.createElement('div'));\n    canvas_div.setAttribute(\n        'style',\n        'border: 1px solid #ddd;' +\n            'box-sizing: content-box;' +\n            'clear: both;' +\n            'min-height: 1px;' +\n            'min-width: 1px;' +\n            'outline: 0;' +\n            'overflow: hidden;' +\n            'position: relative;' +\n            'resize: both;'\n    );\n\n    function on_keyboard_event_closure(name) {\n        return function (event) {\n            return fig.key_event(event, name);\n        };\n    }\n\n    canvas_div.addEventListener(\n        'keydown',\n        on_keyboard_event_closure('key_press')\n    );\n    canvas_div.addEventListener(\n        'keyup',\n        on_keyboard_event_closure('key_release')\n    );\n\n    this._canvas_extra_style(canvas_div);\n    this.root.appendChild(canvas_div);\n\n    var canvas = (this.canvas = document.createElement('canvas'));\n    canvas.classList.add('mpl-canvas');\n    canvas.setAttribute('style', 'box-sizing: content-box;');\n\n    this.context = canvas.getContext('2d');\n\n    var backingStore =\n        this.context.backingStorePixelRatio ||\n        this.context.webkitBackingStorePixelRatio ||\n        this.context.mozBackingStorePixelRatio ||\n        this.context.msBackingStorePixelRatio ||\n        this.context.oBackingStorePixelRatio ||\n        this.context.backingStorePixelRatio ||\n        1;\n\n    this.ratio = (window.devicePixelRatio || 1) / backingStore;\n\n    var rubberband_canvas = (this.rubberband_canvas = document.createElement(\n        'canvas'\n    ));\n    rubberband_canvas.setAttribute(\n        'style',\n        'box-sizing: content-box; position: absolute; left: 0; top: 0; z-index: 1;'\n    );\n\n    // Apply a ponyfill if ResizeObserver is not implemented by browser.\n    if (this.ResizeObserver === undefined) {\n        if (window.ResizeObserver !== undefined) {\n            this.ResizeObserver = window.ResizeObserver;\n        } else {\n            var obs = _JSXTOOLS_RESIZE_OBSERVER({});\n            this.ResizeObserver = obs.ResizeObserver;\n        }\n    }\n\n    this.resizeObserverInstance = new this.ResizeObserver(function (entries) {\n        var nentries = entries.length;\n        for (var i = 0; i < nentries; i++) {\n            var entry = entries[i];\n            var width, height;\n            if (entry.contentBoxSize) {\n                if (entry.contentBoxSize instanceof Array) {\n                    // Chrome 84 implements new version of spec.\n                    width = entry.contentBoxSize[0].inlineSize;\n                    height = entry.contentBoxSize[0].blockSize;\n                } else {\n                    // Firefox implements old version of spec.\n                    width = entry.contentBoxSize.inlineSize;\n                    height = entry.contentBoxSize.blockSize;\n                }\n            } else {\n                // Chrome <84 implements even older version of spec.\n                width = entry.contentRect.width;\n                height = entry.contentRect.height;\n            }\n\n            // Keep the size of the canvas and rubber band canvas in sync with\n            // the canvas container.\n            if (entry.devicePixelContentBoxSize) {\n                // Chrome 84 implements new version of spec.\n                canvas.setAttribute(\n                    'width',\n                    entry.devicePixelContentBoxSize[0].inlineSize\n                );\n                canvas.setAttribute(\n                    'height',\n                    entry.devicePixelContentBoxSize[0].blockSize\n                );\n            } else {\n                canvas.setAttribute('width', width * fig.ratio);\n                canvas.setAttribute('height', height * fig.ratio);\n            }\n            canvas.setAttribute(\n                'style',\n                'width: ' + width + 'px; height: ' + height + 'px;'\n            );\n\n            rubberband_canvas.setAttribute('width', width);\n            rubberband_canvas.setAttribute('height', height);\n\n            // And update the size in Python. We ignore the initial 0/0 size\n            // that occurs as the element is placed into the DOM, which should\n            // otherwise not happen due to the minimum size styling.\n            if (fig.ws.readyState == 1 && width != 0 && height != 0) {\n                fig.request_resize(width, height);\n            }\n        }\n    });\n    this.resizeObserverInstance.observe(canvas_div);\n\n    function on_mouse_event_closure(name) {\n        return function (event) {\n            return fig.mouse_event(event, name);\n        };\n    }\n\n    rubberband_canvas.addEventListener(\n        'mousedown',\n        on_mouse_event_closure('button_press')\n    );\n    rubberband_canvas.addEventListener(\n        'mouseup',\n        on_mouse_event_closure('button_release')\n    );\n    rubberband_canvas.addEventListener(\n        'dblclick',\n        on_mouse_event_closure('dblclick')\n    );\n    // Throttle sequential mouse events to 1 every 20ms.\n    rubberband_canvas.addEventListener(\n        'mousemove',\n        on_mouse_event_closure('motion_notify')\n    );\n\n    rubberband_canvas.addEventListener(\n        'mouseenter',\n        on_mouse_event_closure('figure_enter')\n    );\n    rubberband_canvas.addEventListener(\n        'mouseleave',\n        on_mouse_event_closure('figure_leave')\n    );\n\n    canvas_div.addEventListener('wheel', function (event) {\n        if (event.deltaY < 0) {\n            event.step = 1;\n        } else {\n            event.step = -1;\n        }\n        on_mouse_event_closure('scroll')(event);\n    });\n\n    canvas_div.appendChild(canvas);\n    canvas_div.appendChild(rubberband_canvas);\n\n    this.rubberband_context = rubberband_canvas.getContext('2d');\n    this.rubberband_context.strokeStyle = '#000000';\n\n    this._resize_canvas = function (width, height, forward) {\n        if (forward) {\n            canvas_div.style.width = width + 'px';\n            canvas_div.style.height = height + 'px';\n        }\n    };\n\n    // Disable right mouse context menu.\n    this.rubberband_canvas.addEventListener('contextmenu', function (_e) {\n        event.preventDefault();\n        return false;\n    });\n\n    function set_focus() {\n        canvas.focus();\n        canvas_div.focus();\n    }\n\n    window.setTimeout(set_focus, 100);\n};\n\nmpl.figure.prototype._init_toolbar = function () {\n    var fig = this;\n\n    var toolbar = document.createElement('div');\n    toolbar.classList = 'mpl-toolbar';\n    this.root.appendChild(toolbar);\n\n    function on_click_closure(name) {\n        return function (_event) {\n            return fig.toolbar_button_onclick(name);\n        };\n    }\n\n    function on_mouseover_closure(tooltip) {\n        return function (event) {\n            if (!event.currentTarget.disabled) {\n                return fig.toolbar_button_onmouseover(tooltip);\n            }\n        };\n    }\n\n    fig.buttons = {};\n    var buttonGroup = document.createElement('div');\n    buttonGroup.classList = 'mpl-button-group';\n    for (var toolbar_ind in mpl.toolbar_items) {\n        var name = mpl.toolbar_items[toolbar_ind][0];\n        var tooltip = mpl.toolbar_items[toolbar_ind][1];\n        var image = mpl.toolbar_items[toolbar_ind][2];\n        var method_name = mpl.toolbar_items[toolbar_ind][3];\n\n        if (!name) {\n            /* Instead of a spacer, we start a new button group. */\n            if (buttonGroup.hasChildNodes()) {\n                toolbar.appendChild(buttonGroup);\n            }\n            buttonGroup = document.createElement('div');\n            buttonGroup.classList = 'mpl-button-group';\n            continue;\n        }\n\n        var button = (fig.buttons[name] = document.createElement('button'));\n        button.classList = 'mpl-widget';\n        button.setAttribute('role', 'button');\n        button.setAttribute('aria-disabled', 'false');\n        button.addEventListener('click', on_click_closure(method_name));\n        button.addEventListener('mouseover', on_mouseover_closure(tooltip));\n\n        var icon_img = document.createElement('img');\n        icon_img.src = '_images/' + image + '.png';\n        icon_img.srcset = '_images/' + image + '_large.png 2x';\n        icon_img.alt = tooltip;\n        button.appendChild(icon_img);\n\n        buttonGroup.appendChild(button);\n    }\n\n    if (buttonGroup.hasChildNodes()) {\n        toolbar.appendChild(buttonGroup);\n    }\n\n    var fmt_picker = document.createElement('select');\n    fmt_picker.classList = 'mpl-widget';\n    toolbar.appendChild(fmt_picker);\n    this.format_dropdown = fmt_picker;\n\n    for (var ind in mpl.extensions) {\n        var fmt = mpl.extensions[ind];\n        var option = document.createElement('option');\n        option.selected = fmt === mpl.default_extension;\n        option.innerHTML = fmt;\n        fmt_picker.appendChild(option);\n    }\n\n    var status_bar = document.createElement('span');\n    status_bar.classList = 'mpl-message';\n    toolbar.appendChild(status_bar);\n    this.message = status_bar;\n};\n\nmpl.figure.prototype.request_resize = function (x_pixels, y_pixels) {\n    // Request matplotlib to resize the figure. Matplotlib will then trigger a resize in the client,\n    // which will in turn request a refresh of the image.\n    this.send_message('resize', { width: x_pixels, height: y_pixels });\n};\n\nmpl.figure.prototype.send_message = function (type, properties) {\n    properties['type'] = type;\n    properties['figure_id'] = this.id;\n    this.ws.send(JSON.stringify(properties));\n};\n\nmpl.figure.prototype.send_draw_message = function () {\n    if (!this.waiting) {\n        this.waiting = true;\n        this.ws.send(JSON.stringify({ type: 'draw', figure_id: this.id }));\n    }\n};\n\nmpl.figure.prototype.handle_save = function (fig, _msg) {\n    var format_dropdown = fig.format_dropdown;\n    var format = format_dropdown.options[format_dropdown.selectedIndex].value;\n    fig.ondownload(fig, format);\n};\n\nmpl.figure.prototype.handle_resize = function (fig, msg) {\n    var size = msg['size'];\n    if (size[0] !== fig.canvas.width || size[1] !== fig.canvas.height) {\n        fig._resize_canvas(size[0], size[1], msg['forward']);\n        fig.send_message('refresh', {});\n    }\n};\n\nmpl.figure.prototype.handle_rubberband = function (fig, msg) {\n    var x0 = msg['x0'] / fig.ratio;\n    var y0 = (fig.canvas.height - msg['y0']) / fig.ratio;\n    var x1 = msg['x1'] / fig.ratio;\n    var y1 = (fig.canvas.height - msg['y1']) / fig.ratio;\n    x0 = Math.floor(x0) + 0.5;\n    y0 = Math.floor(y0) + 0.5;\n    x1 = Math.floor(x1) + 0.5;\n    y1 = Math.floor(y1) + 0.5;\n    var min_x = Math.min(x0, x1);\n    var min_y = Math.min(y0, y1);\n    var width = Math.abs(x1 - x0);\n    var height = Math.abs(y1 - y0);\n\n    fig.rubberband_context.clearRect(\n        0,\n        0,\n        fig.canvas.width / fig.ratio,\n        fig.canvas.height / fig.ratio\n    );\n\n    fig.rubberband_context.strokeRect(min_x, min_y, width, height);\n};\n\nmpl.figure.prototype.handle_figure_label = function (fig, msg) {\n    // Updates the figure title.\n    fig.header.textContent = msg['label'];\n};\n\nmpl.figure.prototype.handle_cursor = function (fig, msg) {\n    fig.rubberband_canvas.style.cursor = msg['cursor'];\n};\n\nmpl.figure.prototype.handle_message = function (fig, msg) {\n    fig.message.textContent = msg['message'];\n};\n\nmpl.figure.prototype.handle_draw = function (fig, _msg) {\n    // Request the server to send over a new figure.\n    fig.send_draw_message();\n};\n\nmpl.figure.prototype.handle_image_mode = function (fig, msg) {\n    fig.image_mode = msg['mode'];\n};\n\nmpl.figure.prototype.handle_history_buttons = function (fig, msg) {\n    for (var key in msg) {\n        if (!(key in fig.buttons)) {\n            continue;\n        }\n        fig.buttons[key].disabled = !msg[key];\n        fig.buttons[key].setAttribute('aria-disabled', !msg[key]);\n    }\n};\n\nmpl.figure.prototype.handle_navigate_mode = function (fig, msg) {\n    if (msg['mode'] === 'PAN') {\n        fig.buttons['Pan'].classList.add('active');\n        fig.buttons['Zoom'].classList.remove('active');\n    } else if (msg['mode'] === 'ZOOM') {\n        fig.buttons['Pan'].classList.remove('active');\n        fig.buttons['Zoom'].classList.add('active');\n    } else {\n        fig.buttons['Pan'].classList.remove('active');\n        fig.buttons['Zoom'].classList.remove('active');\n    }\n};\n\nmpl.figure.prototype.updated_canvas_event = function () {\n    // Called whenever the canvas gets updated.\n    this.send_message('ack', {});\n};\n\n// A function to construct a web socket function for onmessage handling.\n// Called in the figure constructor.\nmpl.figure.prototype._make_on_message_function = function (fig) {\n    return function socket_on_message(evt) {\n        if (evt.data instanceof Blob) {\n            var img = evt.data;\n            if (img.type !== 'image/png') {\n                /* FIXME: We get \"Resource interpreted as Image but\n                 * transferred with MIME type text/plain:\" errors on\n                 * Chrome.  But how to set the MIME type?  It doesn't seem\n                 * to be part of the websocket stream */\n                img.type = 'image/png';\n            }\n\n            /* Free the memory for the previous frames */\n            if (fig.imageObj.src) {\n                (window.URL || window.webkitURL).revokeObjectURL(\n                    fig.imageObj.src\n                );\n            }\n\n            fig.imageObj.src = (window.URL || window.webkitURL).createObjectURL(\n                img\n            );\n            fig.updated_canvas_event();\n            fig.waiting = false;\n            return;\n        } else if (\n            typeof evt.data === 'string' &&\n            evt.data.slice(0, 21) === 'data:image/png;base64'\n        ) {\n            fig.imageObj.src = evt.data;\n            fig.updated_canvas_event();\n            fig.waiting = false;\n            return;\n        }\n\n        var msg = JSON.parse(evt.data);\n        var msg_type = msg['type'];\n\n        // Call the  \"handle_{type}\" callback, which takes\n        // the figure and JSON message as its only arguments.\n        try {\n            var callback = fig['handle_' + msg_type];\n        } catch (e) {\n            console.log(\n                \"No handler for the '\" + msg_type + \"' message type: \",\n                msg\n            );\n            return;\n        }\n\n        if (callback) {\n            try {\n                // console.log(\"Handling '\" + msg_type + \"' message: \", msg);\n                callback(fig, msg);\n            } catch (e) {\n                console.log(\n                    \"Exception inside the 'handler_\" + msg_type + \"' callback:\",\n                    e,\n                    e.stack,\n                    msg\n                );\n            }\n        }\n    };\n};\n\n// from https://stackoverflow.com/questions/1114465/getting-mouse-location-in-canvas\nmpl.findpos = function (e) {\n    //this section is from http://www.quirksmode.org/js/events_properties.html\n    var targ;\n    if (!e) {\n        e = window.event;\n    }\n    if (e.target) {\n        targ = e.target;\n    } else if (e.srcElement) {\n        targ = e.srcElement;\n    }\n    if (targ.nodeType === 3) {\n        // defeat Safari bug\n        targ = targ.parentNode;\n    }\n\n    // pageX,Y are the mouse positions relative to the document\n    var boundingRect = targ.getBoundingClientRect();\n    var x = e.pageX - (boundingRect.left + document.body.scrollLeft);\n    var y = e.pageY - (boundingRect.top + document.body.scrollTop);\n\n    return { x: x, y: y };\n};\n\n/*\n * return a copy of an object with only non-object keys\n * we need this to avoid circular references\n * https://stackoverflow.com/a/24161582/3208463\n */\nfunction simpleKeys(original) {\n    return Object.keys(original).reduce(function (obj, key) {\n        if (typeof original[key] !== 'object') {\n            obj[key] = original[key];\n        }\n        return obj;\n    }, {});\n}\n\nmpl.figure.prototype.mouse_event = function (event, name) {\n    var canvas_pos = mpl.findpos(event);\n\n    if (name === 'button_press') {\n        this.canvas.focus();\n        this.canvas_div.focus();\n    }\n\n    var x = canvas_pos.x * this.ratio;\n    var y = canvas_pos.y * this.ratio;\n\n    this.send_message(name, {\n        x: x,\n        y: y,\n        button: event.button,\n        step: event.step,\n        guiEvent: simpleKeys(event),\n    });\n\n    /* This prevents the web browser from automatically changing to\n     * the text insertion cursor when the button is pressed.  We want\n     * to control all of the cursor setting manually through the\n     * 'cursor' event from matplotlib */\n    event.preventDefault();\n    return false;\n};\n\nmpl.figure.prototype._key_event_extra = function (_event, _name) {\n    // Handle any extra behaviour associated with a key event\n};\n\nmpl.figure.prototype.key_event = function (event, name) {\n    // Prevent repeat events\n    if (name === 'key_press') {\n        if (event.key === this._key) {\n            return;\n        } else {\n            this._key = event.key;\n        }\n    }\n    if (name === 'key_release') {\n        this._key = null;\n    }\n\n    var value = '';\n    if (event.ctrlKey && event.key !== 'Control') {\n        value += 'ctrl+';\n    }\n    else if (event.altKey && event.key !== 'Alt') {\n        value += 'alt+';\n    }\n    else if (event.shiftKey && event.key !== 'Shift') {\n        value += 'shift+';\n    }\n\n    value += 'k' + event.key;\n\n    this._key_event_extra(event, name);\n\n    this.send_message(name, { key: value, guiEvent: simpleKeys(event) });\n    return false;\n};\n\nmpl.figure.prototype.toolbar_button_onclick = function (name) {\n    if (name === 'download') {\n        this.handle_save(this, null);\n    } else {\n        this.send_message('toolbar_button', { name: name });\n    }\n};\n\nmpl.figure.prototype.toolbar_button_onmouseover = function (tooltip) {\n    this.message.textContent = tooltip;\n};\n\n///////////////// REMAINING CONTENT GENERATED BY embed_js.py /////////////////\n// prettier-ignore\nvar _JSXTOOLS_RESIZE_OBSERVER=function(A){var t,i=new WeakMap,n=new WeakMap,a=new WeakMap,r=new WeakMap,o=new Set;function s(e){if(!(this instanceof s))throw new TypeError(\"Constructor requires 'new' operator\");i.set(this,e)}function h(){throw new TypeError(\"Function is not a constructor\")}function c(e,t,i,n){e=0 in arguments?Number(arguments[0]):0,t=1 in arguments?Number(arguments[1]):0,i=2 in arguments?Number(arguments[2]):0,n=3 in arguments?Number(arguments[3]):0,this.right=(this.x=this.left=e)+(this.width=i),this.bottom=(this.y=this.top=t)+(this.height=n),Object.freeze(this)}function d(){t=requestAnimationFrame(d);var s=new WeakMap,p=new Set;o.forEach((function(t){r.get(t).forEach((function(i){var r=t instanceof window.SVGElement,o=a.get(t),d=r?0:parseFloat(o.paddingTop),f=r?0:parseFloat(o.paddingRight),l=r?0:parseFloat(o.paddingBottom),u=r?0:parseFloat(o.paddingLeft),g=r?0:parseFloat(o.borderTopWidth),m=r?0:parseFloat(o.borderRightWidth),w=r?0:parseFloat(o.borderBottomWidth),b=u+f,F=d+l,v=(r?0:parseFloat(o.borderLeftWidth))+m,W=g+w,y=r?0:t.offsetHeight-W-t.clientHeight,E=r?0:t.offsetWidth-v-t.clientWidth,R=b+v,z=F+W,M=r?t.width:parseFloat(o.width)-R-E,O=r?t.height:parseFloat(o.height)-z-y;if(n.has(t)){var k=n.get(t);if(k[0]===M&&k[1]===O)return}n.set(t,[M,O]);var S=Object.create(h.prototype);S.target=t,S.contentRect=new c(u,d,M,O),s.has(i)||(s.set(i,[]),p.add(i)),s.get(i).push(S)}))})),p.forEach((function(e){i.get(e).call(e,s.get(e),e)}))}return s.prototype.observe=function(i){if(i instanceof window.Element){r.has(i)||(r.set(i,new Set),o.add(i),a.set(i,window.getComputedStyle(i)));var n=r.get(i);n.has(this)||n.add(this),cancelAnimationFrame(t),t=requestAnimationFrame(d)}},s.prototype.unobserve=function(i){if(i instanceof window.Element&&r.has(i)){var n=r.get(i);n.has(this)&&(n.delete(this),n.size||(r.delete(i),o.delete(i))),n.size||r.delete(i),o.size||cancelAnimationFrame(t)}},A.DOMRectReadOnly=c,A.ResizeObserver=s,A.ResizeObserverEntry=h,A}; // eslint-disable-line\nmpl.toolbar_items = [[\"Home\", \"Reset original view\", \"fa fa-home icon-home\", \"home\"], [\"Back\", \"Back to previous view\", \"fa fa-arrow-left icon-arrow-left\", \"back\"], [\"Forward\", \"Forward to next view\", \"fa fa-arrow-right icon-arrow-right\", \"forward\"], [\"\", \"\", \"\", \"\"], [\"Pan\", \"Left button pans, Right button zooms\\nx/y fixes axis, CTRL fixes aspect\", \"fa fa-arrows icon-move\", \"pan\"], [\"Zoom\", \"Zoom to rectangle\\nx/y fixes axis\", \"fa fa-square-o icon-check-empty\", \"zoom\"], [\"\", \"\", \"\", \"\"], [\"Download\", \"Download plot\", \"fa fa-floppy-o icon-save\", \"download\"]];\n\nmpl.extensions = [\"eps\", \"jpeg\", \"pgf\", \"pdf\", \"png\", \"ps\", \"raw\", \"svg\", \"tif\"];\n\nmpl.default_extension = \"png\";/* global mpl */\n\nvar comm_websocket_adapter = function (comm) {\n    // Create a \"websocket\"-like object which calls the given IPython comm\n    // object with the appropriate methods. Currently this is a non binary\n    // socket, so there is still some room for performance tuning.\n    var ws = {};\n\n    ws.binaryType = comm.kernel.ws.binaryType;\n    ws.readyState = comm.kernel.ws.readyState;\n    function updateReadyState(_event) {\n        if (comm.kernel.ws) {\n            ws.readyState = comm.kernel.ws.readyState;\n        } else {\n            ws.readyState = 3; // Closed state.\n        }\n    }\n    comm.kernel.ws.addEventListener('open', updateReadyState);\n    comm.kernel.ws.addEventListener('close', updateReadyState);\n    comm.kernel.ws.addEventListener('error', updateReadyState);\n\n    ws.close = function () {\n        comm.close();\n    };\n    ws.send = function (m) {\n        //console.log('sending', m);\n        comm.send(m);\n    };\n    // Register the callback with on_msg.\n    comm.on_msg(function (msg) {\n        //console.log('receiving', msg['content']['data'], msg);\n        var data = msg['content']['data'];\n        if (data['blob'] !== undefined) {\n            data = {\n                data: new Blob(msg['buffers'], { type: data['blob'] }),\n            };\n        }\n        // Pass the mpl event to the overridden (by mpl) onmessage function.\n        ws.onmessage(data);\n    });\n    return ws;\n};\n\nmpl.mpl_figure_comm = function (comm, msg) {\n    // This is the function which gets called when the mpl process\n    // starts-up an IPython Comm through the \"matplotlib\" channel.\n\n    var id = msg.content.data.id;\n    // Get hold of the div created by the display call when the Comm\n    // socket was opened in Python.\n    var element = document.getElementById(id);\n    var ws_proxy = comm_websocket_adapter(comm);\n\n    function ondownload(figure, _format) {\n        window.open(figure.canvas.toDataURL());\n    }\n\n    var fig = new mpl.figure(id, ws_proxy, ondownload, element);\n\n    // Call onopen now - mpl needs it, as it is assuming we've passed it a real\n    // web socket which is closed, not our websocket->open comm proxy.\n    ws_proxy.onopen();\n\n    fig.parent_element = element;\n    fig.cell_info = mpl.find_output_cell(\"<div id='\" + id + \"'></div>\");\n    if (!fig.cell_info) {\n        console.error('Failed to find cell for figure', id, fig);\n        return;\n    }\n    fig.cell_info[0].output_area.element.on(\n        'cleared',\n        { fig: fig },\n        fig._remove_fig_handler\n    );\n};\n\nmpl.figure.prototype.handle_close = function (fig, msg) {\n    var width = fig.canvas.width / fig.ratio;\n    fig.cell_info[0].output_area.element.off(\n        'cleared',\n        fig._remove_fig_handler\n    );\n    fig.resizeObserverInstance.unobserve(fig.canvas_div);\n\n    // Update the output cell to use the data from the current canvas.\n    fig.push_to_output();\n    var dataURL = fig.canvas.toDataURL();\n    // Re-enable the keyboard manager in IPython - without this line, in FF,\n    // the notebook keyboard shortcuts fail.\n    IPython.keyboard_manager.enable();\n    fig.parent_element.innerHTML =\n        '<img src=\"' + dataURL + '\" width=\"' + width + '\">';\n    fig.close_ws(fig, msg);\n};\n\nmpl.figure.prototype.close_ws = function (fig, msg) {\n    fig.send_message('closing', msg);\n    // fig.ws.close()\n};\n\nmpl.figure.prototype.push_to_output = function (_remove_interactive) {\n    // Turn the data on the canvas into data in the output cell.\n    var width = this.canvas.width / this.ratio;\n    var dataURL = this.canvas.toDataURL();\n    this.cell_info[1]['text/html'] =\n        '<img src=\"' + dataURL + '\" width=\"' + width + '\">';\n};\n\nmpl.figure.prototype.updated_canvas_event = function () {\n    // Tell IPython that the notebook contents must change.\n    IPython.notebook.set_dirty(true);\n    this.send_message('ack', {});\n    var fig = this;\n    // Wait a second, then push the new image to the DOM so\n    // that it is saved nicely (might be nice to debounce this).\n    setTimeout(function () {\n        fig.push_to_output();\n    }, 1000);\n};\n\nmpl.figure.prototype._init_toolbar = function () {\n    var fig = this;\n\n    var toolbar = document.createElement('div');\n    toolbar.classList = 'btn-toolbar';\n    this.root.appendChild(toolbar);\n\n    function on_click_closure(name) {\n        return function (_event) {\n            return fig.toolbar_button_onclick(name);\n        };\n    }\n\n    function on_mouseover_closure(tooltip) {\n        return function (event) {\n            if (!event.currentTarget.disabled) {\n                return fig.toolbar_button_onmouseover(tooltip);\n            }\n        };\n    }\n\n    fig.buttons = {};\n    var buttonGroup = document.createElement('div');\n    buttonGroup.classList = 'btn-group';\n    var button;\n    for (var toolbar_ind in mpl.toolbar_items) {\n        var name = mpl.toolbar_items[toolbar_ind][0];\n        var tooltip = mpl.toolbar_items[toolbar_ind][1];\n        var image = mpl.toolbar_items[toolbar_ind][2];\n        var method_name = mpl.toolbar_items[toolbar_ind][3];\n\n        if (!name) {\n            /* Instead of a spacer, we start a new button group. */\n            if (buttonGroup.hasChildNodes()) {\n                toolbar.appendChild(buttonGroup);\n            }\n            buttonGroup = document.createElement('div');\n            buttonGroup.classList = 'btn-group';\n            continue;\n        }\n\n        button = fig.buttons[name] = document.createElement('button');\n        button.classList = 'btn btn-default';\n        button.href = '#';\n        button.title = name;\n        button.innerHTML = '<i class=\"fa ' + image + ' fa-lg\"></i>';\n        button.addEventListener('click', on_click_closure(method_name));\n        button.addEventListener('mouseover', on_mouseover_closure(tooltip));\n        buttonGroup.appendChild(button);\n    }\n\n    if (buttonGroup.hasChildNodes()) {\n        toolbar.appendChild(buttonGroup);\n    }\n\n    // Add the status bar.\n    var status_bar = document.createElement('span');\n    status_bar.classList = 'mpl-message pull-right';\n    toolbar.appendChild(status_bar);\n    this.message = status_bar;\n\n    // Add the close button to the window.\n    var buttongrp = document.createElement('div');\n    buttongrp.classList = 'btn-group inline pull-right';\n    button = document.createElement('button');\n    button.classList = 'btn btn-mini btn-primary';\n    button.href = '#';\n    button.title = 'Stop Interaction';\n    button.innerHTML = '<i class=\"fa fa-power-off icon-remove icon-large\"></i>';\n    button.addEventListener('click', function (_evt) {\n        fig.handle_close(fig, {});\n    });\n    button.addEventListener(\n        'mouseover',\n        on_mouseover_closure('Stop Interaction')\n    );\n    buttongrp.appendChild(button);\n    var titlebar = this.root.querySelector('.ui-dialog-titlebar');\n    titlebar.insertBefore(buttongrp, titlebar.firstChild);\n};\n\nmpl.figure.prototype._remove_fig_handler = function (event) {\n    var fig = event.data.fig;\n    if (event.target !== this) {\n        // Ignore bubbled events from children.\n        return;\n    }\n    fig.close_ws(fig, {});\n};\n\nmpl.figure.prototype._root_extra_style = function (el) {\n    el.style.boxSizing = 'content-box'; // override notebook setting of border-box.\n};\n\nmpl.figure.prototype._canvas_extra_style = function (el) {\n    // this is important to make the div 'focusable\n    el.setAttribute('tabindex', 0);\n    // reach out to IPython and tell the keyboard manager to turn it's self\n    // off when our div gets focus\n\n    // location in version 3\n    if (IPython.notebook.keyboard_manager) {\n        IPython.notebook.keyboard_manager.register_events(el);\n    } else {\n        // location in version 2\n        IPython.keyboard_manager.register_events(el);\n    }\n};\n\nmpl.figure.prototype._key_event_extra = function (event, _name) {\n    // Check for shift+enter\n    if (event.shiftKey && event.which === 13) {\n        this.canvas_div.blur();\n        // select the cell after this one\n        var index = IPython.notebook.find_cell_index(this.cell_info[0]);\n        IPython.notebook.select(index + 1);\n    }\n};\n\nmpl.figure.prototype.handle_save = function (fig, _msg) {\n    fig.ondownload(fig, null);\n};\n\nmpl.find_output_cell = function (html_output) {\n    // Return the cell and output element which can be found *uniquely* in the notebook.\n    // Note - this is a bit hacky, but it is done because the \"notebook_saving.Notebook\"\n    // IPython event is triggered only after the cells have been serialised, which for\n    // our purposes (turning an active figure into a static one), is too late.\n    var cells = IPython.notebook.get_cells();\n    var ncells = cells.length;\n    for (var i = 0; i < ncells; i++) {\n        var cell = cells[i];\n        if (cell.cell_type === 'code') {\n            for (var j = 0; j < cell.output_area.outputs.length; j++) {\n                var data = cell.output_area.outputs[j];\n                if (data.data) {\n                    // IPython >= 3 moved mimebundle to data attribute of output\n                    data = data.data;\n                }\n                if (data['text/html'] === html_output) {\n                    return [cell, data, j];\n                }\n            }\n        }\n    }\n};\n\n// Register the function which deals with the matplotlib target/channel.\n// The kernel may be null if the page has been refreshed.\nif (IPython.notebook.kernel !== null) {\n    IPython.notebook.kernel.comm_manager.register_target(\n        'matplotlib',\n        mpl.mpl_figure_comm\n    );\n}\n",
      "text/plain": [
       "<IPython.core.display.Javascript object>"
      ]
     },
     "metadata": {},
     "output_type": "display_data"
    },
    {
     "data": {
      "text/html": [
       "<img src=\"data:image/png;base64,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\" width=\"640\">"
      ],
      "text/plain": [
       "<IPython.core.display.HTML object>"
      ]
     },
     "metadata": {},
     "output_type": "display_data"
    }
   ],
   "source": [
    "# Generate a bar plot showing the total number of timepoints for all mice tested for each drug regimen using Pandas.\n",
    "bar_plot = id_time_df[\"Drug Regimen\"].value_counts().plot.bar(width=.7)\n"
   ]
  },
  {
   "cell_type": "code",
   "execution_count": 47,
   "metadata": {},
   "outputs": [
    {
     "ename": "ValueError",
     "evalue": "The number of FixedLocator locations (1888), usually from a call to set_ticks, does not match the number of ticklabels (10).",
     "output_type": "error",
     "traceback": [
      "\u001b[1;31m---------------------------------------------------------------------------\u001b[0m",
      "\u001b[1;31mValueError\u001b[0m                                Traceback (most recent call last)",
      "\u001b[1;32m~\\AppData\\Local\\Temp\\ipykernel_4468\\223639361.py\u001b[0m in \u001b[0;36m<module>\u001b[1;34m\u001b[0m\n\u001b[0;32m      2\u001b[0m \u001b[0mtick_locations\u001b[0m \u001b[1;33m=\u001b[0m \u001b[1;33m[\u001b[0m\u001b[0mvalue\u001b[0m\u001b[1;33m+\u001b[0m\u001b[1;36m0.4\u001b[0m \u001b[1;32mfor\u001b[0m \u001b[0mvalue\u001b[0m \u001b[1;32min\u001b[0m \u001b[0mx_axis\u001b[0m\u001b[1;33m]\u001b[0m\u001b[1;33m\u001b[0m\u001b[1;33m\u001b[0m\u001b[0m\n\u001b[0;32m      3\u001b[0m \u001b[0mplt\u001b[0m\u001b[1;33m.\u001b[0m\u001b[0mbar\u001b[0m\u001b[1;33m(\u001b[0m\u001b[0mx_axis\u001b[0m\u001b[1;33m,\u001b[0m \u001b[0mid_time_df\u001b[0m\u001b[1;33m[\u001b[0m\u001b[1;34m\"ID_Time\"\u001b[0m\u001b[1;33m]\u001b[0m\u001b[1;33m,\u001b[0m \u001b[0mcolor\u001b[0m\u001b[1;33m=\u001b[0m\u001b[1;34m'r'\u001b[0m\u001b[1;33m,\u001b[0m \u001b[0malpha\u001b[0m\u001b[1;33m=\u001b[0m\u001b[1;36m0.5\u001b[0m\u001b[1;33m,\u001b[0m \u001b[0malign\u001b[0m\u001b[1;33m=\u001b[0m\u001b[1;34m\"edge\"\u001b[0m\u001b[1;33m)\u001b[0m\u001b[1;33m\u001b[0m\u001b[1;33m\u001b[0m\u001b[0m\n\u001b[1;32m----> 4\u001b[1;33m \u001b[0mplt\u001b[0m\u001b[1;33m.\u001b[0m\u001b[0mxticks\u001b[0m\u001b[1;33m(\u001b[0m\u001b[0mtick_locations\u001b[0m\u001b[1;33m,\u001b[0m \u001b[0mid_time_df\u001b[0m\u001b[1;33m[\u001b[0m\u001b[1;34m\"Drug Regimen\"\u001b[0m\u001b[1;33m]\u001b[0m\u001b[1;33m.\u001b[0m\u001b[0mvalue_counts\u001b[0m\u001b[1;33m(\u001b[0m\u001b[1;33m)\u001b[0m\u001b[1;33m,\u001b[0m \u001b[0mrotation\u001b[0m\u001b[1;33m=\u001b[0m\u001b[1;34m\"vertical\"\u001b[0m\u001b[1;33m)\u001b[0m\u001b[1;33m\u001b[0m\u001b[1;33m\u001b[0m\u001b[0m\n\u001b[0m\u001b[0;32m      5\u001b[0m \u001b[0mplt\u001b[0m\u001b[1;33m.\u001b[0m\u001b[0mshow\u001b[0m\u001b[1;33m(\u001b[0m\u001b[1;33m)\u001b[0m\u001b[1;33m\u001b[0m\u001b[1;33m\u001b[0m\u001b[0m\n",
      "\u001b[1;32m~\\anaconda3\\lib\\site-packages\\matplotlib\\pyplot.py\u001b[0m in \u001b[0;36mxticks\u001b[1;34m(ticks, labels, **kwargs)\u001b[0m\n\u001b[0;32m   1814\u001b[0m             \u001b[0ml\u001b[0m\u001b[1;33m.\u001b[0m\u001b[0mupdate\u001b[0m\u001b[1;33m(\u001b[0m\u001b[0mkwargs\u001b[0m\u001b[1;33m)\u001b[0m\u001b[1;33m\u001b[0m\u001b[1;33m\u001b[0m\u001b[0m\n\u001b[0;32m   1815\u001b[0m     \u001b[1;32melse\u001b[0m\u001b[1;33m:\u001b[0m\u001b[1;33m\u001b[0m\u001b[1;33m\u001b[0m\u001b[0m\n\u001b[1;32m-> 1816\u001b[1;33m         \u001b[0mlabels\u001b[0m \u001b[1;33m=\u001b[0m \u001b[0max\u001b[0m\u001b[1;33m.\u001b[0m\u001b[0mset_xticklabels\u001b[0m\u001b[1;33m(\u001b[0m\u001b[0mlabels\u001b[0m\u001b[1;33m,\u001b[0m \u001b[1;33m**\u001b[0m\u001b[0mkwargs\u001b[0m\u001b[1;33m)\u001b[0m\u001b[1;33m\u001b[0m\u001b[1;33m\u001b[0m\u001b[0m\n\u001b[0m\u001b[0;32m   1817\u001b[0m \u001b[1;33m\u001b[0m\u001b[0m\n\u001b[0;32m   1818\u001b[0m     \u001b[1;32mreturn\u001b[0m \u001b[0mlocs\u001b[0m\u001b[1;33m,\u001b[0m \u001b[0mlabels\u001b[0m\u001b[1;33m\u001b[0m\u001b[1;33m\u001b[0m\u001b[0m\n",
      "\u001b[1;32m~\\anaconda3\\lib\\site-packages\\matplotlib\\axes\\_base.py\u001b[0m in \u001b[0;36mwrapper\u001b[1;34m(self, *args, **kwargs)\u001b[0m\n\u001b[0;32m     73\u001b[0m \u001b[1;33m\u001b[0m\u001b[0m\n\u001b[0;32m     74\u001b[0m         \u001b[1;32mdef\u001b[0m \u001b[0mwrapper\u001b[0m\u001b[1;33m(\u001b[0m\u001b[0mself\u001b[0m\u001b[1;33m,\u001b[0m \u001b[1;33m*\u001b[0m\u001b[0margs\u001b[0m\u001b[1;33m,\u001b[0m \u001b[1;33m**\u001b[0m\u001b[0mkwargs\u001b[0m\u001b[1;33m)\u001b[0m\u001b[1;33m:\u001b[0m\u001b[1;33m\u001b[0m\u001b[1;33m\u001b[0m\u001b[0m\n\u001b[1;32m---> 75\u001b[1;33m             \u001b[1;32mreturn\u001b[0m \u001b[0mget_method\u001b[0m\u001b[1;33m(\u001b[0m\u001b[0mself\u001b[0m\u001b[1;33m)\u001b[0m\u001b[1;33m(\u001b[0m\u001b[1;33m*\u001b[0m\u001b[0margs\u001b[0m\u001b[1;33m,\u001b[0m \u001b[1;33m**\u001b[0m\u001b[0mkwargs\u001b[0m\u001b[1;33m)\u001b[0m\u001b[1;33m\u001b[0m\u001b[1;33m\u001b[0m\u001b[0m\n\u001b[0m\u001b[0;32m     76\u001b[0m \u001b[1;33m\u001b[0m\u001b[0m\n\u001b[0;32m     77\u001b[0m         \u001b[0mwrapper\u001b[0m\u001b[1;33m.\u001b[0m\u001b[0m__module__\u001b[0m \u001b[1;33m=\u001b[0m \u001b[0mowner\u001b[0m\u001b[1;33m.\u001b[0m\u001b[0m__module__\u001b[0m\u001b[1;33m\u001b[0m\u001b[1;33m\u001b[0m\u001b[0m\n",
      "\u001b[1;32m~\\anaconda3\\lib\\site-packages\\matplotlib\\axis.py\u001b[0m in \u001b[0;36m_set_ticklabels\u001b[1;34m(self, labels, fontdict, minor, **kwargs)\u001b[0m\n\u001b[0;32m   1796\u001b[0m         \u001b[1;32mif\u001b[0m \u001b[0mfontdict\u001b[0m \u001b[1;32mis\u001b[0m \u001b[1;32mnot\u001b[0m \u001b[1;32mNone\u001b[0m\u001b[1;33m:\u001b[0m\u001b[1;33m\u001b[0m\u001b[1;33m\u001b[0m\u001b[0m\n\u001b[0;32m   1797\u001b[0m             \u001b[0mkwargs\u001b[0m\u001b[1;33m.\u001b[0m\u001b[0mupdate\u001b[0m\u001b[1;33m(\u001b[0m\u001b[0mfontdict\u001b[0m\u001b[1;33m)\u001b[0m\u001b[1;33m\u001b[0m\u001b[1;33m\u001b[0m\u001b[0m\n\u001b[1;32m-> 1798\u001b[1;33m         \u001b[1;32mreturn\u001b[0m \u001b[0mself\u001b[0m\u001b[1;33m.\u001b[0m\u001b[0mset_ticklabels\u001b[0m\u001b[1;33m(\u001b[0m\u001b[0mlabels\u001b[0m\u001b[1;33m,\u001b[0m \u001b[0mminor\u001b[0m\u001b[1;33m=\u001b[0m\u001b[0mminor\u001b[0m\u001b[1;33m,\u001b[0m \u001b[1;33m**\u001b[0m\u001b[0mkwargs\u001b[0m\u001b[1;33m)\u001b[0m\u001b[1;33m\u001b[0m\u001b[1;33m\u001b[0m\u001b[0m\n\u001b[0m\u001b[0;32m   1799\u001b[0m \u001b[1;33m\u001b[0m\u001b[0m\n\u001b[0;32m   1800\u001b[0m     \u001b[1;32mdef\u001b[0m \u001b[0m_set_tick_locations\u001b[0m\u001b[1;33m(\u001b[0m\u001b[0mself\u001b[0m\u001b[1;33m,\u001b[0m \u001b[0mticks\u001b[0m\u001b[1;33m,\u001b[0m \u001b[1;33m*\u001b[0m\u001b[1;33m,\u001b[0m \u001b[0mminor\u001b[0m\u001b[1;33m=\u001b[0m\u001b[1;32mFalse\u001b[0m\u001b[1;33m)\u001b[0m\u001b[1;33m:\u001b[0m\u001b[1;33m\u001b[0m\u001b[1;33m\u001b[0m\u001b[0m\n",
      "\u001b[1;32m~\\anaconda3\\lib\\site-packages\\matplotlib\\axis.py\u001b[0m in \u001b[0;36mset_ticklabels\u001b[1;34m(self, ticklabels, minor, **kwargs)\u001b[0m\n\u001b[0;32m   1718\u001b[0m             \u001b[1;31m# remove all tick labels, so only error for > 0 ticklabels\u001b[0m\u001b[1;33m\u001b[0m\u001b[1;33m\u001b[0m\u001b[0m\n\u001b[0;32m   1719\u001b[0m             \u001b[1;32mif\u001b[0m \u001b[0mlen\u001b[0m\u001b[1;33m(\u001b[0m\u001b[0mlocator\u001b[0m\u001b[1;33m.\u001b[0m\u001b[0mlocs\u001b[0m\u001b[1;33m)\u001b[0m \u001b[1;33m!=\u001b[0m \u001b[0mlen\u001b[0m\u001b[1;33m(\u001b[0m\u001b[0mticklabels\u001b[0m\u001b[1;33m)\u001b[0m \u001b[1;32mand\u001b[0m \u001b[0mlen\u001b[0m\u001b[1;33m(\u001b[0m\u001b[0mticklabels\u001b[0m\u001b[1;33m)\u001b[0m \u001b[1;33m!=\u001b[0m \u001b[1;36m0\u001b[0m\u001b[1;33m:\u001b[0m\u001b[1;33m\u001b[0m\u001b[1;33m\u001b[0m\u001b[0m\n\u001b[1;32m-> 1720\u001b[1;33m                 raise ValueError(\n\u001b[0m\u001b[0;32m   1721\u001b[0m                     \u001b[1;34m\"The number of FixedLocator locations\"\u001b[0m\u001b[1;33m\u001b[0m\u001b[1;33m\u001b[0m\u001b[0m\n\u001b[0;32m   1722\u001b[0m                     \u001b[1;34mf\" ({len(locator.locs)}), usually from a call to\"\u001b[0m\u001b[1;33m\u001b[0m\u001b[1;33m\u001b[0m\u001b[0m\n",
      "\u001b[1;31mValueError\u001b[0m: The number of FixedLocator locations (1888), usually from a call to set_ticks, does not match the number of ticklabels (10)."
     ]
    }
   ],
   "source": [
    "x_axis = np.arange(len(id_time_df))\n",
    "tick_locations = [value+0.4 for value in x_axis]\n",
    "plt.bar(x_axis, id_time_df[\"ID_Time\"], color='r', alpha=0.5, align=\"edge\")\n",
    "plt.xticks(tick_locations, id_time_df[\"Drug Regimen\"].value_counts(), rotation=\"vertical\")\n",
    "plt.show()"
   ]
  },
  {
   "cell_type": "code",
   "execution_count": 44,
   "metadata": {},
   "outputs": [
    {
     "ename": "KeyError",
     "evalue": "\"['Mouse ID'] not in index\"",
     "output_type": "error",
     "traceback": [
      "\u001b[1;31m---------------------------------------------------------------------------\u001b[0m",
      "\u001b[1;31mKeyError\u001b[0m                                  Traceback (most recent call last)",
      "\u001b[1;32m~\\AppData\\Local\\Temp\\ipykernel_4468\\3850887700.py\u001b[0m in \u001b[0;36m<module>\u001b[1;34m\u001b[0m\n\u001b[0;32m      1\u001b[0m \u001b[1;31m# Generate a bar plot showing the total number of timepoints for all mice tested for each drug regimen using pyplot.\u001b[0m\u001b[1;33m\u001b[0m\u001b[1;33m\u001b[0m\u001b[0m\n\u001b[1;32m----> 2\u001b[1;33m \u001b[0mgrouped_drug\u001b[0m \u001b[1;33m=\u001b[0m \u001b[0mid_time_df\u001b[0m\u001b[1;33m.\u001b[0m\u001b[0mgroupby\u001b[0m\u001b[1;33m(\u001b[0m\u001b[1;34m'Drug Regimen'\u001b[0m\u001b[1;33m)\u001b[0m\u001b[1;33m.\u001b[0m\u001b[0mvalue_counts\u001b[0m\u001b[1;33m(\u001b[0m\u001b[1;33m)\u001b[0m\u001b[1;33m[\u001b[0m\u001b[1;33m[\u001b[0m\u001b[1;34m'Mouse ID'\u001b[0m\u001b[1;33m]\u001b[0m\u001b[1;33m]\u001b[0m\u001b[1;33m.\u001b[0m\u001b[0msum\u001b[0m\u001b[1;33m(\u001b[0m\u001b[1;33m)\u001b[0m\u001b[1;33m\u001b[0m\u001b[1;33m\u001b[0m\u001b[0m\n\u001b[0m\u001b[0;32m      3\u001b[0m \u001b[1;33m\u001b[0m\u001b[0m\n\u001b[0;32m      4\u001b[0m \u001b[0mfig\u001b[0m\u001b[1;33m,\u001b[0m \u001b[0max\u001b[0m \u001b[1;33m=\u001b[0m \u001b[0mplt\u001b[0m\u001b[1;33m.\u001b[0m\u001b[0msubplots\u001b[0m\u001b[1;33m(\u001b[0m\u001b[1;33m)\u001b[0m\u001b[1;33m\u001b[0m\u001b[1;33m\u001b[0m\u001b[0m\n\u001b[0;32m      5\u001b[0m \u001b[0max\u001b[0m\u001b[1;33m.\u001b[0m\u001b[0mbar\u001b[0m\u001b[1;33m(\u001b[0m\u001b[0mgrouped_drug\u001b[0m\u001b[1;33m.\u001b[0m\u001b[0msort_values\u001b[0m\u001b[1;33m(\u001b[0m\u001b[0mby\u001b[0m \u001b[1;33m=\u001b[0m \u001b[1;33m[\u001b[0m\u001b[1;34m'Mouse ID'\u001b[0m\u001b[1;33m]\u001b[0m\u001b[1;33m)\u001b[0m\u001b[1;33m)\u001b[0m\u001b[1;33m\u001b[0m\u001b[1;33m\u001b[0m\u001b[0m\n",
      "\u001b[1;32m~\\anaconda3\\lib\\site-packages\\pandas\\core\\series.py\u001b[0m in \u001b[0;36m__getitem__\u001b[1;34m(self, key)\u001b[0m\n\u001b[0;32m    982\u001b[0m             \u001b[1;32mreturn\u001b[0m \u001b[0mself\u001b[0m\u001b[1;33m.\u001b[0m\u001b[0m_get_values\u001b[0m\u001b[1;33m(\u001b[0m\u001b[0mkey\u001b[0m\u001b[1;33m)\u001b[0m\u001b[1;33m\u001b[0m\u001b[1;33m\u001b[0m\u001b[0m\n\u001b[0;32m    983\u001b[0m \u001b[1;33m\u001b[0m\u001b[0m\n\u001b[1;32m--> 984\u001b[1;33m         \u001b[1;32mreturn\u001b[0m \u001b[0mself\u001b[0m\u001b[1;33m.\u001b[0m\u001b[0m_get_with\u001b[0m\u001b[1;33m(\u001b[0m\u001b[0mkey\u001b[0m\u001b[1;33m)\u001b[0m\u001b[1;33m\u001b[0m\u001b[1;33m\u001b[0m\u001b[0m\n\u001b[0m\u001b[0;32m    985\u001b[0m \u001b[1;33m\u001b[0m\u001b[0m\n\u001b[0;32m    986\u001b[0m     \u001b[1;32mdef\u001b[0m \u001b[0m_get_with\u001b[0m\u001b[1;33m(\u001b[0m\u001b[0mself\u001b[0m\u001b[1;33m,\u001b[0m \u001b[0mkey\u001b[0m\u001b[1;33m)\u001b[0m\u001b[1;33m:\u001b[0m\u001b[1;33m\u001b[0m\u001b[1;33m\u001b[0m\u001b[0m\n",
      "\u001b[1;32m~\\anaconda3\\lib\\site-packages\\pandas\\core\\series.py\u001b[0m in \u001b[0;36m_get_with\u001b[1;34m(self, key)\u001b[0m\n\u001b[0;32m   1022\u001b[0m \u001b[1;33m\u001b[0m\u001b[0m\n\u001b[0;32m   1023\u001b[0m         \u001b[1;31m# handle the dup indexing case GH#4246\u001b[0m\u001b[1;33m\u001b[0m\u001b[1;33m\u001b[0m\u001b[0m\n\u001b[1;32m-> 1024\u001b[1;33m         \u001b[1;32mreturn\u001b[0m \u001b[0mself\u001b[0m\u001b[1;33m.\u001b[0m\u001b[0mloc\u001b[0m\u001b[1;33m[\u001b[0m\u001b[0mkey\u001b[0m\u001b[1;33m]\u001b[0m\u001b[1;33m\u001b[0m\u001b[1;33m\u001b[0m\u001b[0m\n\u001b[0m\u001b[0;32m   1025\u001b[0m \u001b[1;33m\u001b[0m\u001b[0m\n\u001b[0;32m   1026\u001b[0m     \u001b[1;32mdef\u001b[0m \u001b[0m_get_values_tuple\u001b[0m\u001b[1;33m(\u001b[0m\u001b[0mself\u001b[0m\u001b[1;33m,\u001b[0m \u001b[0mkey\u001b[0m\u001b[1;33m)\u001b[0m\u001b[1;33m:\u001b[0m\u001b[1;33m\u001b[0m\u001b[1;33m\u001b[0m\u001b[0m\n",
      "\u001b[1;32m~\\anaconda3\\lib\\site-packages\\pandas\\core\\indexing.py\u001b[0m in \u001b[0;36m__getitem__\u001b[1;34m(self, key)\u001b[0m\n\u001b[0;32m    965\u001b[0m \u001b[1;33m\u001b[0m\u001b[0m\n\u001b[0;32m    966\u001b[0m             \u001b[0mmaybe_callable\u001b[0m \u001b[1;33m=\u001b[0m \u001b[0mcom\u001b[0m\u001b[1;33m.\u001b[0m\u001b[0mapply_if_callable\u001b[0m\u001b[1;33m(\u001b[0m\u001b[0mkey\u001b[0m\u001b[1;33m,\u001b[0m \u001b[0mself\u001b[0m\u001b[1;33m.\u001b[0m\u001b[0mobj\u001b[0m\u001b[1;33m)\u001b[0m\u001b[1;33m\u001b[0m\u001b[1;33m\u001b[0m\u001b[0m\n\u001b[1;32m--> 967\u001b[1;33m             \u001b[1;32mreturn\u001b[0m \u001b[0mself\u001b[0m\u001b[1;33m.\u001b[0m\u001b[0m_getitem_axis\u001b[0m\u001b[1;33m(\u001b[0m\u001b[0mmaybe_callable\u001b[0m\u001b[1;33m,\u001b[0m \u001b[0maxis\u001b[0m\u001b[1;33m=\u001b[0m\u001b[0maxis\u001b[0m\u001b[1;33m)\u001b[0m\u001b[1;33m\u001b[0m\u001b[1;33m\u001b[0m\u001b[0m\n\u001b[0m\u001b[0;32m    968\u001b[0m \u001b[1;33m\u001b[0m\u001b[0m\n\u001b[0;32m    969\u001b[0m     \u001b[1;32mdef\u001b[0m \u001b[0m_is_scalar_access\u001b[0m\u001b[1;33m(\u001b[0m\u001b[0mself\u001b[0m\u001b[1;33m,\u001b[0m \u001b[0mkey\u001b[0m\u001b[1;33m:\u001b[0m \u001b[0mtuple\u001b[0m\u001b[1;33m)\u001b[0m\u001b[1;33m:\u001b[0m\u001b[1;33m\u001b[0m\u001b[1;33m\u001b[0m\u001b[0m\n",
      "\u001b[1;32m~\\anaconda3\\lib\\site-packages\\pandas\\core\\indexing.py\u001b[0m in \u001b[0;36m_getitem_axis\u001b[1;34m(self, key, axis)\u001b[0m\n\u001b[0;32m   1192\u001b[0m                     \u001b[1;32mraise\u001b[0m \u001b[0mValueError\u001b[0m\u001b[1;33m(\u001b[0m\u001b[1;34m\"Cannot index with multidimensional key\"\u001b[0m\u001b[1;33m)\u001b[0m\u001b[1;33m\u001b[0m\u001b[1;33m\u001b[0m\u001b[0m\n\u001b[0;32m   1193\u001b[0m \u001b[1;33m\u001b[0m\u001b[0m\n\u001b[1;32m-> 1194\u001b[1;33m                 \u001b[1;32mreturn\u001b[0m \u001b[0mself\u001b[0m\u001b[1;33m.\u001b[0m\u001b[0m_getitem_iterable\u001b[0m\u001b[1;33m(\u001b[0m\u001b[0mkey\u001b[0m\u001b[1;33m,\u001b[0m \u001b[0maxis\u001b[0m\u001b[1;33m=\u001b[0m\u001b[0maxis\u001b[0m\u001b[1;33m)\u001b[0m\u001b[1;33m\u001b[0m\u001b[1;33m\u001b[0m\u001b[0m\n\u001b[0m\u001b[0;32m   1195\u001b[0m \u001b[1;33m\u001b[0m\u001b[0m\n\u001b[0;32m   1196\u001b[0m             \u001b[1;31m# nested tuple slicing\u001b[0m\u001b[1;33m\u001b[0m\u001b[1;33m\u001b[0m\u001b[0m\n",
      "\u001b[1;32m~\\anaconda3\\lib\\site-packages\\pandas\\core\\indexing.py\u001b[0m in \u001b[0;36m_getitem_iterable\u001b[1;34m(self, key, axis)\u001b[0m\n\u001b[0;32m   1130\u001b[0m \u001b[1;33m\u001b[0m\u001b[0m\n\u001b[0;32m   1131\u001b[0m         \u001b[1;31m# A collection of keys\u001b[0m\u001b[1;33m\u001b[0m\u001b[1;33m\u001b[0m\u001b[0m\n\u001b[1;32m-> 1132\u001b[1;33m         \u001b[0mkeyarr\u001b[0m\u001b[1;33m,\u001b[0m \u001b[0mindexer\u001b[0m \u001b[1;33m=\u001b[0m \u001b[0mself\u001b[0m\u001b[1;33m.\u001b[0m\u001b[0m_get_listlike_indexer\u001b[0m\u001b[1;33m(\u001b[0m\u001b[0mkey\u001b[0m\u001b[1;33m,\u001b[0m \u001b[0maxis\u001b[0m\u001b[1;33m)\u001b[0m\u001b[1;33m\u001b[0m\u001b[1;33m\u001b[0m\u001b[0m\n\u001b[0m\u001b[0;32m   1133\u001b[0m         return self.obj._reindex_with_indexers(\n\u001b[0;32m   1134\u001b[0m             \u001b[1;33m{\u001b[0m\u001b[0maxis\u001b[0m\u001b[1;33m:\u001b[0m \u001b[1;33m[\u001b[0m\u001b[0mkeyarr\u001b[0m\u001b[1;33m,\u001b[0m \u001b[0mindexer\u001b[0m\u001b[1;33m]\u001b[0m\u001b[1;33m}\u001b[0m\u001b[1;33m,\u001b[0m \u001b[0mcopy\u001b[0m\u001b[1;33m=\u001b[0m\u001b[1;32mTrue\u001b[0m\u001b[1;33m,\u001b[0m \u001b[0mallow_dups\u001b[0m\u001b[1;33m=\u001b[0m\u001b[1;32mTrue\u001b[0m\u001b[1;33m\u001b[0m\u001b[1;33m\u001b[0m\u001b[0m\n",
      "\u001b[1;32m~\\anaconda3\\lib\\site-packages\\pandas\\core\\indexing.py\u001b[0m in \u001b[0;36m_get_listlike_indexer\u001b[1;34m(self, key, axis)\u001b[0m\n\u001b[0;32m   1328\u001b[0m         \u001b[0maxis_name\u001b[0m \u001b[1;33m=\u001b[0m \u001b[0mself\u001b[0m\u001b[1;33m.\u001b[0m\u001b[0mobj\u001b[0m\u001b[1;33m.\u001b[0m\u001b[0m_get_axis_name\u001b[0m\u001b[1;33m(\u001b[0m\u001b[0maxis\u001b[0m\u001b[1;33m)\u001b[0m\u001b[1;33m\u001b[0m\u001b[1;33m\u001b[0m\u001b[0m\n\u001b[0;32m   1329\u001b[0m \u001b[1;33m\u001b[0m\u001b[0m\n\u001b[1;32m-> 1330\u001b[1;33m         \u001b[0mkeyarr\u001b[0m\u001b[1;33m,\u001b[0m \u001b[0mindexer\u001b[0m \u001b[1;33m=\u001b[0m \u001b[0max\u001b[0m\u001b[1;33m.\u001b[0m\u001b[0m_get_indexer_strict\u001b[0m\u001b[1;33m(\u001b[0m\u001b[0mkey\u001b[0m\u001b[1;33m,\u001b[0m \u001b[0maxis_name\u001b[0m\u001b[1;33m)\u001b[0m\u001b[1;33m\u001b[0m\u001b[1;33m\u001b[0m\u001b[0m\n\u001b[0m\u001b[0;32m   1331\u001b[0m \u001b[1;33m\u001b[0m\u001b[0m\n\u001b[0;32m   1332\u001b[0m         \u001b[1;32mreturn\u001b[0m \u001b[0mkeyarr\u001b[0m\u001b[1;33m,\u001b[0m \u001b[0mindexer\u001b[0m\u001b[1;33m\u001b[0m\u001b[1;33m\u001b[0m\u001b[0m\n",
      "\u001b[1;32m~\\anaconda3\\lib\\site-packages\\pandas\\core\\indexes\\multi.py\u001b[0m in \u001b[0;36m_get_indexer_strict\u001b[1;34m(self, key, axis_name)\u001b[0m\n\u001b[0;32m   2585\u001b[0m             \u001b[0mindexer\u001b[0m \u001b[1;33m=\u001b[0m \u001b[0mself\u001b[0m\u001b[1;33m.\u001b[0m\u001b[0m_get_indexer_level_0\u001b[0m\u001b[1;33m(\u001b[0m\u001b[0mkeyarr\u001b[0m\u001b[1;33m)\u001b[0m\u001b[1;33m\u001b[0m\u001b[1;33m\u001b[0m\u001b[0m\n\u001b[0;32m   2586\u001b[0m \u001b[1;33m\u001b[0m\u001b[0m\n\u001b[1;32m-> 2587\u001b[1;33m             \u001b[0mself\u001b[0m\u001b[1;33m.\u001b[0m\u001b[0m_raise_if_missing\u001b[0m\u001b[1;33m(\u001b[0m\u001b[0mkey\u001b[0m\u001b[1;33m,\u001b[0m \u001b[0mindexer\u001b[0m\u001b[1;33m,\u001b[0m \u001b[0maxis_name\u001b[0m\u001b[1;33m)\u001b[0m\u001b[1;33m\u001b[0m\u001b[1;33m\u001b[0m\u001b[0m\n\u001b[0m\u001b[0;32m   2588\u001b[0m             \u001b[1;32mreturn\u001b[0m \u001b[0mself\u001b[0m\u001b[1;33m[\u001b[0m\u001b[0mindexer\u001b[0m\u001b[1;33m]\u001b[0m\u001b[1;33m,\u001b[0m \u001b[0mindexer\u001b[0m\u001b[1;33m\u001b[0m\u001b[1;33m\u001b[0m\u001b[0m\n\u001b[0;32m   2589\u001b[0m \u001b[1;33m\u001b[0m\u001b[0m\n",
      "\u001b[1;32m~\\anaconda3\\lib\\site-packages\\pandas\\core\\indexes\\multi.py\u001b[0m in \u001b[0;36m_raise_if_missing\u001b[1;34m(self, key, indexer, axis_name)\u001b[0m\n\u001b[0;32m   2603\u001b[0m                 \u001b[0mcmask\u001b[0m \u001b[1;33m=\u001b[0m \u001b[0mcheck\u001b[0m \u001b[1;33m==\u001b[0m \u001b[1;33m-\u001b[0m\u001b[1;36m1\u001b[0m\u001b[1;33m\u001b[0m\u001b[1;33m\u001b[0m\u001b[0m\n\u001b[0;32m   2604\u001b[0m                 \u001b[1;32mif\u001b[0m \u001b[0mcmask\u001b[0m\u001b[1;33m.\u001b[0m\u001b[0many\u001b[0m\u001b[1;33m(\u001b[0m\u001b[1;33m)\u001b[0m\u001b[1;33m:\u001b[0m\u001b[1;33m\u001b[0m\u001b[1;33m\u001b[0m\u001b[0m\n\u001b[1;32m-> 2605\u001b[1;33m                     \u001b[1;32mraise\u001b[0m \u001b[0mKeyError\u001b[0m\u001b[1;33m(\u001b[0m\u001b[1;34mf\"{keyarr[cmask]} not in index\"\u001b[0m\u001b[1;33m)\u001b[0m\u001b[1;33m\u001b[0m\u001b[1;33m\u001b[0m\u001b[0m\n\u001b[0m\u001b[0;32m   2606\u001b[0m                 \u001b[1;31m# We get here when levels still contain values which are not\u001b[0m\u001b[1;33m\u001b[0m\u001b[1;33m\u001b[0m\u001b[0m\n\u001b[0;32m   2607\u001b[0m                 \u001b[1;31m# actually in Index anymore\u001b[0m\u001b[1;33m\u001b[0m\u001b[1;33m\u001b[0m\u001b[0m\n",
      "\u001b[1;31mKeyError\u001b[0m: \"['Mouse ID'] not in index\""
     ]
    }
   ],
   "source": [
    "# Generate a bar plot showing the total number of timepoints for all mice tested for each drug regimen using pyplot.\n",
    "grouped_drug = id_time_df.groupby('Drug Regimen').value_counts()[['Mouse ID']].sum()\n",
    "\n",
    "fig, ax = plt.subplots()\n",
    "ax.bar(grouped_drug.sort_values(by = ['Mouse ID']))\n",
    "\n",
    "#pyplot_bar = id_time_df.plt.bar('drug regimen', 'Mouse ID', color='r', alpha=0.5, align=\"center\" )\n",
    "plt.title(\"Title\")\n",
    "plt.xlabel(\"Drug Regimen\")\n",
    "plt.ylabel(\"Number of Mice Tested\")\n",
    "plt.show\n",
    "\n"
   ]
  },
  {
   "cell_type": "code",
   "execution_count": 11,
   "metadata": {},
   "outputs": [
    {
     "data": {
      "image/png": "[encoded data removed]",
      "text/plain": [
       "<Figure size 432x288 with 1 Axes>"
      ]
     },
     "metadata": {},
     "output_type": "display_data"
    }
   ],
   "source": [
    "# Generate a pie plot showing the distribution of female versus male mice using Pandas\n",
    "\n"
   ]
  },
  {
   "cell_type": "code",
   "execution_count": 12,
   "metadata": {},
   "outputs": [
    {
     "data": {
      "image/png": "[encoded data removed]",
      "text/plain": [
       "<Figure size 432x288 with 1 Axes>"
      ]
     },
     "metadata": {},
     "output_type": "display_data"
    }
   ],
   "source": [
    "# Generate a pie plot showing the distribution of female versus male mice using pyplot\n",
    "\n"
   ]
  },
  {
   "cell_type": "markdown",
   "metadata": {},
   "source": [
    "## Quartiles, Outliers and Boxplots"
   ]
  },
  {
   "cell_type": "code",
   "execution_count": 13,
   "metadata": {},
   "outputs": [],
   "source": [
    "# Calculate the final tumor volume of each mouse across four of the treatment regimens:  \n",
    "# Capomulin, Ramicane, Infubinol, and Ceftamin\n",
    "\n",
    "# Start by getting the last (greatest) timepoint for each mouse\n",
    "\n",
    "\n",
    "# Merge this group df with the original DataFrame to get the tumor volume at the last timepoint\n"
   ]
  },
  {
   "cell_type": "code",
   "execution_count": 14,
   "metadata": {},
   "outputs": [
    {
     "name": "stdout",
     "output_type": "stream",
     "text": [
      "Capomulin's potential outliers: Series([], Name: Tumor Volume (mm3), dtype: float64)\n",
      "Ramicane's potential outliers: Series([], Name: Tumor Volume (mm3), dtype: float64)\n",
      "Infubinol's potential outliers: 31    36.321346\n",
      "Name: Tumor Volume (mm3), dtype: float64\n",
      "Ceftamin's potential outliers: Series([], Name: Tumor Volume (mm3), dtype: float64)\n"
     ]
    }
   ],
   "source": [
    "# Put treatments into a list for for loop (and later for plot labels)\n",
    "\n",
    "\n",
    "# Create empty list to fill with tumor vol data (for plotting)\n",
    "\n",
    "\n",
    "# Calculate the IQR and quantitatively determine if there are any potential outliers. \n",
    "\n",
    "    \n",
    "    # Locate the rows which contain mice on each drug and get the tumor volumes\n",
    "    \n",
    "    \n",
    "    # add subset \n",
    "    \n",
    "    \n",
    "    # Determine outliers using upper and lower bounds\n",
    "    "
   ]
  },
  {
   "cell_type": "code",
   "execution_count": 15,
   "metadata": {},
   "outputs": [
    {
     "data": {
      "image/png": "[encoded data removed]",
      "text/plain": [
       "<Figure size 432x288 with 1 Axes>"
      ]
     },
     "metadata": {
      "needs_background": "light"
     },
     "output_type": "display_data"
    }
   ],
   "source": [
    "# Generate a box plot that shows the distrubution of the tumor volume for each treatment group.\n",
    "\n"
   ]
  },
  {
   "cell_type": "markdown",
   "metadata": {},
   "source": [
    "## Line and Scatter Plots"
   ]
  },
  {
   "cell_type": "code",
   "execution_count": 16,
   "metadata": {},
   "outputs": [
    {
     "data": {
      "image/png": "[encoded data removed]",
      "text/plain": [
       "<Figure size 432x288 with 1 Axes>"
      ]
     },
     "metadata": {
      "needs_background": "light"
     },
     "output_type": "display_data"
    }
   ],
   "source": [
    "# Generate a line plot of tumor volume vs. time point for a mouse treated with Capomulin\n",
    "\n"
   ]
  },
  {
   "cell_type": "code",
   "execution_count": 17,
   "metadata": {},
   "outputs": [
    {
     "data": {
      "image/png": "[encoded data removed]",
      "text/plain": [
       "<Figure size 432x288 with 1 Axes>"
      ]
     },
     "metadata": {
      "needs_background": "light"
     },
     "output_type": "display_data"
    }
   ],
   "source": [
    "# Generate a scatter plot of average tumor volume vs. mouse weight for the Capomulin regimen\n",
    "\n"
   ]
  },
  {
   "cell_type": "markdown",
   "metadata": {},
   "source": [
    "## Correlation and Regression"
   ]
  },
  {
   "cell_type": "code",
   "execution_count": 18,
   "metadata": {},
   "outputs": [
    {
     "name": "stdout",
     "output_type": "stream",
     "text": [
      "The correlation between mouse weight and the average tumor volume is 0.84\n"
     ]
    },
    {
     "data": {
      "image/png": "[encoded data removed]",
      "text/plain": [
       "<Figure size 432x288 with 1 Axes>"
      ]
     },
     "metadata": {
      "needs_background": "light"
     },
     "output_type": "display_data"
    }
   ],
   "source": [
    "# Calculate the correlation coefficient and linear regression model \n",
    "# for mouse weight and average tumor volume for the Capomulin regimen\n",
    "\n"
   ]
  },
  {
   "cell_type": "code",
   "execution_count": null,
   "metadata": {},
   "outputs": [],
   "source": []
  }
 ],
 "metadata": {
  "anaconda-cloud": {},
  "kernelspec": {
   "display_name": "Python 3.9.13 ('base')",
   "language": "python",
   "name": "python3"
  },
  "language_info": {
   "codemirror_mode": {
    "name": "ipython",
    "version": 3
   },
   "file_extension": ".py",
   "mimetype": "text/x-python",
   "name": "python",
   "nbconvert_exporter": "python",
   "pygments_lexer": "ipython3",
   "version": "3.9.13"
  },
  "vscode": {
   "interpreter": {
    "hash": "c2d1befef8990d759e0b17b01ca0aadf7ce79e6b0a3736cca2f95a7f32966260"
   }
  }
 },
 "nbformat": 4,
 "nbformat_minor": 4
}
